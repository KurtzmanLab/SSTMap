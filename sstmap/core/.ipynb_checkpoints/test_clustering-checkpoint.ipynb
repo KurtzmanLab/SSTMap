{
 "cells": [
  {
   "cell_type": "code",
   "execution_count": 5,
   "metadata": {
    "collapsed": true
   },
   "outputs": [],
   "source": [
    "\n",
    "import sys\n",
    "import time\n",
    "import datetime\n",
    "import os\n",
    "from site_water_analysis import SiteWaterAnalysis\n",
    "import mdtraj as md\n",
    "import numpy as np\n",
    "from scipy import stats, spatial"
   ]
  },
  {
   "cell_type": "code",
   "execution_count": null,
   "metadata": {
    "collapsed": false
   },
   "outputs": [
    {
     "name": "stdout",
     "output_type": "stream",
     "text": [
      "DEBUG: assigning parent attributes\n",
      "DEBUG: assigning cluster centers\n",
      "Reading in trajectory for clustering.\n"
     ]
    }
   ],
   "source": [
    "#top = \"/Users/kamranhaider/simulation_data_from_microway_home/casp3/casp3_pd_2/casp3_pd_2-out_converted.gro\"\n",
    "top = \"/Users/kamranhaider/simulation_data_from_microway_home/casp3/casp3_pd_2/casp3_pd_2-out.pdb\"\n",
    "#traj = \"/Users/kamranhaider/simulation_data_from_microway_home/casp3/casp3_pd_2/casp3_converted.nc\"\n",
    "traj = \"/Users/kamranhaider/water_structure_data_davinci/casp3/clustering/01_wkeeper/casp3_converted.nc\"\n",
    "des = \"/Users/kamranhaider/Downloads/casp3_pd_2-out_cms_nb_parms.txt\"\n",
    "lig = \"/Users/kamranhaider/water_structure_data_davinci/casp3/clustering/01_wkeeper/ligand.pdb\"\n",
    "clusters = \"/Users/kamranhaider/water_structure_data_davinci/casp3/clustering/03_organizewaters/clustercenterfile.pdb\"\n",
    "hsa = SiteWaterAnalysis(top, traj, start_frame=0, num_frames=10000, ligand_file=lig, desmond_helper_file=des, prefix=\"test_casp\")\n"
   ]
  },
  {
   "cell_type": "code",
   "execution_count": null,
   "metadata": {
    "collapsed": false
   },
   "outputs": [],
   "source": [
    "\n",
    "# Obtain binding site solute atoms using ligand atom coordinates\n",
    "ligand = md.load_pdb(lig)\n",
    "ligand_coords = md.utils.in_units_of(ligand.xyz[0, :, :], \"nanometers\", \"angstroms\", inplace=True)\n",
    "first_frame = md.load_frame(hsa.trajectory, 0, top=hsa.topology_file)\n",
    "solute_pos = md.utils.in_units_of(first_frame.xyz[0, hsa.non_water_atom_ids, :], \"nanometers\", \"angstroms\")\n",
    "search_space = NeighborSearch(solute_pos, 5.0)\n",
    "near_indices = search_space.query_nbrs_multiple_points(ligand_coords)\n",
    "binding_site_atom_indices = [hsa.non_water_atom_ids[nbr_index] for nbr_index in near_indices]\n",
    "# Obtain water molecules solvating the binding site\n",
    "stride = 10\n",
    "print \"Reading in trajectory for clustering.\"\n"
   ]
  },
  {
   "cell_type": "code",
   "execution_count": 7,
   "metadata": {
    "collapsed": false
   },
   "outputs": [
    {
     "ename": "NameError",
     "evalue": "name 'nbr_list' is not defined",
     "output_type": "error",
     "traceback": [
      "\u001b[0;31m---------------------------------------------------------------------------\u001b[0m",
      "\u001b[0;31mNameError\u001b[0m                                 Traceback (most recent call last)",
      "\u001b[0;32m<ipython-input-7-2b74306ea816>\u001b[0m in \u001b[0;36m<module>\u001b[0;34m()\u001b[0m\n\u001b[0;32m----> 1\u001b[0;31m \u001b[0;32mprint\u001b[0m \u001b[0mnbr_list\u001b[0m\u001b[0;34m\u001b[0m\u001b[0m\n\u001b[0m",
      "\u001b[0;31mNameError\u001b[0m: name 'nbr_list' is not defined"
     ]
    }
   ],
   "source": [
    "trj = md.load(hsa.trajectory, top=hsa.topology)\n",
    "trj_short = trj[hsa.start_frame:hsa.start_frame + trj.n_frames:stride]\n",
    "print \"Obtaining a superconfiguration of all water molecules found in the binding site throught the trajectory.\"\n",
    "binding_site_waters = md.compute_neighbors(trj_short, 0.50, binding_site_atom_indices, haystack_indices=hsa.wat_oxygen_atom_ids)\n",
    "# generate a list of all waters with their frame ids\n",
    "water_id_frame_list = [(i, nbr) for i in range(len(binding_site_waters)) for nbr in binding_site_waters[i]]\n",
    "# Set up clustering loop\n",
    "print \"Performing clustering on the superconfiguration.\"\n",
    "cutoff = trj_short.n_frames * 2 * 0.1401\n",
    "if np.ceil(cutoff) - cutoff <= 0.5:\n",
    "    cutoff = np.ceil(cutoff)\n",
    "else:\n",
    "    cutoff = np.floor(cutoff)\n",
    "n_wat = 3 * cutoff\n",
    "cluster_list = []\n",
    "cluster_iter = 0\n",
    "sphere_radius = 1.0\n",
    "# Build KDTree and get initial neighbor count for all waters\n",
    "water_coordinates = np.ma.array([trj_short.xyz[wat[0], wat[1], :] for wat in water_id_frame_list], mask=False)*10.0        \n",
    "tree = spatial.cKDTree(water_coordinates)\n",
    "nbr_list = tree.query_ball_point(water_coordinates, sphere_radius)\n",
    "nbr_count_list = np.ma.array([len(nbrs) for nbrs in nbr_list], mask=False)\n",
    "# Clustering loop\n"
   ]
  },
  {
   "cell_type": "code",
   "execution_count": null,
   "metadata": {
    "collapsed": true
   },
   "outputs": [],
   "source": []
  }
 ],
 "metadata": {
  "anaconda-cloud": {},
  "kernelspec": {
   "display_name": "Python [default]",
   "language": "python",
   "name": "python2"
  },
  "language_info": {
   "codemirror_mode": {
    "name": "ipython",
    "version": 2
   },
   "file_extension": ".py",
   "mimetype": "text/x-python",
   "name": "python",
   "nbconvert_exporter": "python",
   "pygments_lexer": "ipython2",
   "version": "2.7.12"
  }
 },
 "nbformat": 4,
 "nbformat_minor": 1
}
