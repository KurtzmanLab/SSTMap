{
 "cells": [
  {
   "cell_type": "markdown",
   "metadata": {},
   "source": [
    "### Clustering algorithm description\n",
    "\n",
    "* The ligand pdb file is read into `ligand_coords` array.\n",
    "* A list `binding_site_atom_indices` is generated, which simply ranges from 0 to the total number of ligand atoms. This list is used as a shortcoming to `md.compute_neighbors` function, explained later.\n",
    "* The whole trajectory is loaded into `trj`.\n",
    "* For each frame in the trajectory, the atoms corresponding to the indices from `binding_site_atom_indices` are modified such that their x, y, z coordinates are replaced by the corresponding coordinates from ligand atoms.\n",
    "* A shorter version of the trajectory is obtained by taking every 10th frame from the original trajectory.\n",
    "* `md.compute_neighbors` is used to perform a search for the waters near the binding site."
   ]
  },
  {
   "cell_type": "code",
   "execution_count": null,
   "metadata": {
    "collapsed": true
   },
   "outputs": [],
   "source": []
  }
 ],
 "metadata": {
  "kernelspec": {
   "display_name": "Python 3",
   "language": "python",
   "name": "python3"
  },
  "language_info": {
   "codemirror_mode": {
    "name": "ipython",
    "version": 3
   },
   "file_extension": ".py",
   "mimetype": "text/x-python",
   "name": "python",
   "nbconvert_exporter": "python",
   "pygments_lexer": "ipython3",
   "version": "3.6.0"
  }
 },
 "nbformat": 4,
 "nbformat_minor": 2
}
